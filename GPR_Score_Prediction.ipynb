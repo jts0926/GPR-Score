{
 "cells": [
  {
   "cell_type": "code",
   "execution_count": null,
   "metadata": {},
   "outputs": [],
   "source": [
    "from pathlib import Path\n",
    "from datetime import datetime\n",
    "import pandas as pd\n",
    "import numpy as np\n",
    "import joblib"
   ]
  },
  {
   "cell_type": "code",
   "execution_count": null,
   "metadata": {},
   "outputs": [],
   "source": [
    "# --- Configure paths ---\n",
    "MODEL_DIR = Path(\"models\")\n",
    "MODEL_FILE = None\n",
    "NEW_DATA_CSV = r\"data/data.csv\"\n",
    "\n",
    "# --- Selected feature names ---\n",
    "SELECTED_COLS = [\n",
    "    'wavelet-LL_firstorder_RootMeanSquared',\n",
    "    'wavelet-LL_firstorder_Mean',\n",
    "    'original_glcm_JointAverage',\n",
    "    'wavelet-LL_firstorder_Median',\n",
    "    'original_firstorder_10Percentile',\n",
    "    'original_firstorder_RootMeanSquared',\n",
    "    'original_firstorder_Mean',\n",
    "    'wavelet-LL_firstorder_10Percentile',\n",
    "    'original_firstorder_Median',\n",
    "]"
   ]
  },
  {
   "cell_type": "code",
   "execution_count": null,
   "metadata": {},
   "outputs": [],
   "source": [
    "def load_model(model_file=None, model_dir=MODEL_DIR):\n",
    "    if model_file is not None:\n",
    "        model_path = Path(model_file)\n",
    "        if not model_path.exists():\n",
    "            raise FileNotFoundError(f\"Model file not found: {model_path}\")\n",
    "    else:\n",
    "        model_dir = Path(model_dir)\n",
    "        cand = sorted(model_dir.glob(\"*.joblib\"))\n",
    "        if not cand:\n",
    "            raise FileNotFoundError(f\"No .joblib models found under {model_dir}\")\n",
    "        model_path = cand[-1]\n",
    "    print(model_path)\n",
    "    model = joblib.load(model_path)\n",
    "    return model_path, model\n",
    "\n",
    "def read_and_prepare(csv_path):\n",
    "    df = pd.read_csv(csv_path)\n",
    "    if df.shape[1] < 2:\n",
    "        raise ValueError(\"CSV must have at least 2 columns (ID + features).\")\n",
    "\n",
    "    if df.columns[0] != \"ID\":\n",
    "        df = df.rename(columns={df.columns[0]: \"ID\"})\n",
    "\n",
    "    feature_block = df.iloc[:, 1:755]\n",
    "    missing = [c for c in SELECTED_COLS if c not in feature_block.columns]\n",
    "    if missing:\n",
    "        raise ValueError(\"Missing required features: \" + \", \".join(missing))\n",
    "\n",
    "    X = feature_block[SELECTED_COLS].copy()\n",
    "    for c in X.columns:\n",
    "        X[c] = pd.to_numeric(X[c], errors=\"coerce\")\n",
    "\n",
    "    ids = df[\"ID\"].copy()\n",
    "    return ids, X\n",
    "\n",
    "def predict_dr_score(model, X):\n",
    "    if hasattr(model, \"predict_proba\"):\n",
    "        proba = model.predict_proba(X)\n",
    "        if proba.ndim == 2 and proba.shape[1] >= 2:\n",
    "            return proba[:, 1]\n",
    "    if hasattr(model, \"decision_function\"):\n",
    "        s = model.decision_function(X)\n",
    "        return np.asarray(s).ravel()\n",
    "    yhat = model.predict(X)\n",
    "    return np.asarray(yhat).ravel()\n",
    "\n",
    "def run(new_data_csv=NEW_DATA_CSV, model_file=MODEL_FILE, model_dir=MODEL_DIR, out_csv=None):\n",
    "    model_path, model = load_model(model_file, model_dir)\n",
    "    ids, X = read_and_prepare(new_data_csv)\n",
    "    scores = predict_dr_score(model, X)\n",
    "    out = pd.DataFrame({\"ID\": ids, \"DR_Score\": scores})\n",
    "\n",
    "    if out_csv is None:\n",
    "        p = Path(new_data_csv)\n",
    "        stamp = datetime.now().strftime(\"%Y%m%d-%H%M%S\")\n",
    "        out_csv = p.with_name(p.stem + f\"_drscore_{stamp}.csv\")\n",
    "\n",
    "    out.to_csv(out_csv, index=False)\n",
    "    print(f\"✅ Loaded model: {model_path}\")\n",
    "    print(f\"✅ Input rows: {len(out)}\")\n",
    "    print(f\"✅ Wrote predictions: {out_csv}\")\n",
    "    return out"
   ]
  },
  {
   "cell_type": "code",
   "execution_count": null,
   "metadata": {},
   "outputs": [],
   "source": [
    "# Example run\n",
    "results = run(new_data_csv=NEW_DATA_CSV, model_file=MODEL_FILE, model_dir=MODEL_DIR)\n",
    "results.head()"
   ]
  },
  {
   "cell_type": "code",
   "execution_count": null,
   "metadata": {},
   "outputs": [],
   "source": []
  }
 ],
 "metadata": {
  "kernelspec": {
   "display_name": "Python 3 (ipykernel)",
   "language": "python",
   "name": "python3"
  },
  "language_info": {
   "codemirror_mode": {
    "name": "ipython",
    "version": 3
   },
   "file_extension": ".py",
   "mimetype": "text/x-python",
   "name": "python",
   "nbconvert_exporter": "python",
   "pygments_lexer": "ipython3",
   "version": "3.9.21"
  }
 },
 "nbformat": 4,
 "nbformat_minor": 4
}
